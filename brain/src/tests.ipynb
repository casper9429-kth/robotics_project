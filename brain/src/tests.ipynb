{
 "cells": [
  {
   "cell_type": "code",
   "execution_count": 2,
   "metadata": {},
   "outputs": [],
   "source": [
    "from behavior_tree.behavior_tree import Leaf, Sequence, Selector, Inverter\n",
    "No = Inverter\n",
    "\n",
    "class ObjectsRemaining(Leaf):\n",
    "    pass\n",
    "\n",
    "class IsHoldingObject(Leaf):\n",
    "    pass\n",
    "\n",
    "class AtPickup(Leaf):\n",
    "    # Old \"CanPickUp\"\n",
    "    pass\n",
    "\n",
    "class GoToPickup(Leaf):\n",
    "    # Old \"GoToPickUp\"\n",
    "    pass\n",
    "\n",
    "class PositionedTarget(Leaf):\n",
    "    # just check something in context that is set in PositionTarget\n",
    "    pass\n",
    "\n",
    "class PositionTarget(Leaf):\n",
    "    # Arm observe (use a new action from the arm_actions node)\n",
    "    # set \"positioned_target\" in context (done_callback)\n",
    "    pass\n",
    "\n",
    "class PickUp(Leaf):\n",
    "    # reset \"positioned_target\" here (done_callback)\n",
    "    pass\n",
    "\n",
    "class Init(Leaf):\n",
    "    # see brain_node.py\n",
    "    pass\n",
    "\n",
    "init = Init()\n",
    "\n",
    "pick_up = Selector([No(ObjectsRemaining()),\n",
    "                    IsHoldingObject(),\n",
    "                    Sequence([Selector([AtPickup(),\n",
    "                                        GoToPickup()]),\n",
    "                              Selector([PositionedTarget(),\n",
    "                                        PositionTarget()]),\n",
    "                              PickUp()])])\n"
   ]
  }
 ],
 "metadata": {
  "kernelspec": {
   "display_name": "Python 3",
   "language": "python",
   "name": "python3"
  },
  "language_info": {
   "codemirror_mode": {
    "name": "ipython",
    "version": 3
   },
   "file_extension": ".py",
   "mimetype": "text/x-python",
   "name": "python",
   "nbconvert_exporter": "python",
   "pygments_lexer": "ipython3",
   "version": "3.8.10"
  },
  "orig_nbformat": 4
 },
 "nbformat": 4,
 "nbformat_minor": 2
}
